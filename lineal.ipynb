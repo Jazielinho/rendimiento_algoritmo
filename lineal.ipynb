{
 "cells": [
  {
   "cell_type": "code",
   "execution_count": 1,
   "metadata": {},
   "outputs": [],
   "source": [
    "# Dos funciones que devuelven el mismo resultado\n",
    "# Pero tienen distinto rendimiento\n",
    "# uno es constante, el otro es lineal"
   ]
  },
  {
   "cell_type": "code",
   "execution_count": 2,
   "metadata": {},
   "outputs": [],
   "source": [
    "import time\n",
    "import tqdm\n",
    "import pandas as pd"
   ]
  },
  {
   "cell_type": "code",
   "execution_count": 3,
   "metadata": {},
   "outputs": [],
   "source": [
    "%matplotlib inline"
   ]
  },
  {
   "cell_type": "code",
   "execution_count": 4,
   "metadata": {},
   "outputs": [],
   "source": [
    "def calcula_suma_lineal(cantidad):\n",
    "    ''' calcula la suma de n numeros, pero sumando de uno en uno '''\n",
    "    suma = 0\n",
    "    for i in range(1, cantidad + 1):\n",
    "        # Vamos a detener un segundo por cada iteracion\n",
    "        time.sleep(1)\n",
    "        suma += i\n",
    "    return suma"
   ]
  },
  {
   "cell_type": "code",
   "execution_count": 5,
   "metadata": {},
   "outputs": [],
   "source": [
    "def calcula_suma_constante(cantidad):\n",
    "    ''' calcula la suma de n numeros, pero de manera optima '''\n",
    "    # Vamos a detener un segundo por cada iteracion\n",
    "    time.sleep(1)\n",
    "    return cantidad * (cantidad + 1) / 2"
   ]
  },
  {
   "cell_type": "code",
   "execution_count": 6,
   "metadata": {},
   "outputs": [
    {
     "name": "stdout",
     "output_type": "stream",
     "text": [
      "Suma constante\n",
      "15.0\n",
      "tiempo:  1.0141260623931885\n",
      "Suma lineal\n",
      "15\n",
      "tiempo:  5.042082071304321\n"
     ]
    }
   ],
   "source": [
    "inicio = time.time()\n",
    "print('Suma constante')\n",
    "print(calcula_suma_constante(5))\n",
    "print('tiempo: ', time.time() - inicio)\n",
    "\n",
    "inicio = time.time()\n",
    "print('Suma lineal')\n",
    "print(calcula_suma_lineal(5))\n",
    "print('tiempo: ', time.time() - inicio)"
   ]
  },
  {
   "cell_type": "code",
   "execution_count": 7,
   "metadata": {},
   "outputs": [],
   "source": [
    "# Probando para mas casos\n",
    "\n",
    "def calcula_tiempos(cantidad):\n",
    "    inicio_lineal = time.time()\n",
    "    suma_lineal = calcula_suma_lineal(cantidad=cantidad)\n",
    "    fin_lineal = time.time()\n",
    "    duracion_lineal = fin_lineal - inicio_lineal\n",
    "\n",
    "    inicio_constante = time.time()\n",
    "    suma_constante = calcula_suma_constante(cantidad=cantidad)\n",
    "    fin_constante = time.time()\n",
    "    duracion_constante = fin_constante - inicio_constante\n",
    "    return {'lineal': duracion_lineal, 'constante': duracion_constante}"
   ]
  },
  {
   "cell_type": "code",
   "execution_count": 8,
   "metadata": {},
   "outputs": [
    {
     "name": "stderr",
     "output_type": "stream",
     "text": [
      "100%|████████████████████████████████████████████████████████████████████████████████████| 5/5 [00:36<00:00,  8.60s/it]\n"
     ]
    }
   ],
   "source": [
    "lista_tiempos = []\n",
    "\n",
    "for i in tqdm.tqdm(range(5)):\n",
    "    tiempos = calcula_tiempos(cantidad=2**i)\n",
    "    lista_tiempos.append({\n",
    "        'cantidad': 2**i,\n",
    "        'tiempo_lineal': tiempos['lineal'],\n",
    "        'tiempo_constante': tiempos['constante'],\n",
    "    })"
   ]
  },
  {
   "cell_type": "code",
   "execution_count": 9,
   "metadata": {},
   "outputs": [
    {
     "data": {
      "text/plain": [
       "<AxesSubplot:xlabel='cantidad'>"
      ]
     },
     "execution_count": 9,
     "metadata": {},
     "output_type": "execute_result"
    },
    {
     "data": {
      "image/png": "[encoded data removed]",
      "text/plain": [
       "<Figure size 432x288 with 1 Axes>"
      ]
     },
     "metadata": {
      "needs_background": "light"
     },
     "output_type": "display_data"
    }
   ],
   "source": [
    "pd.DataFrame(lista_tiempos).set_index('cantidad').plot()"
   ]
  },
  {
   "cell_type": "code",
   "execution_count": null,
   "metadata": {},
   "outputs": [],
   "source": []
  }
 ],
 "metadata": {
  "kernelspec": {
   "display_name": "Python 3",
   "language": "python",
   "name": "python3"
  },
  "language_info": {
   "codemirror_mode": {
    "name": "ipython",
    "version": 3
   },
   "file_extension": ".py",
   "mimetype": "text/x-python",
   "name": "python",
   "nbconvert_exporter": "python",
   "pygments_lexer": "ipython3",
   "version": "3.7.7"
  }
 },
 "nbformat": 4,
 "nbformat_minor": 2
}
